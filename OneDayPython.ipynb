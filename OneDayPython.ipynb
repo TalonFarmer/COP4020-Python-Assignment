{
  "cells": [
    {
      "cell_type": "markdown",
      "metadata": {
        "id": "view-in-github",
        "colab_type": "text"
      },
      "source": [
        "<a href=\"https://colab.research.google.com/github/TalonFarmer/COP4020-Python-Assignment/blob/main/OneDayPython.ipynb\" target=\"_parent\"><img src=\"https://colab.research.google.com/assets/colab-badge.svg\" alt=\"Open In Colab\"/></a>"
      ]
    },
    {
      "cell_type": "markdown",
      "metadata": {
        "id": "Xi1vNpaYtgDj"
      },
      "source": [
        "## One Day Python Assignment\n",
        "This is the assignment intended to teach Python from the basics all the way to using Pandas Dataframes. It is not intended to be comprehensive, but rather a survey of the major topics to get the learner from point A to B.    \n",
        "   \n",
        "Part 1 will be worth 100 points and Part 2 will be worth 100 points. There will only be one assignment on Canvas worth 100 points. The final grade for this will be divided by 2 and rounded up.     \n",
        "So if you got 100 on Part 1 and 67 on Part 2, you will have 167 / 2 = 83.5. Extra credit is added onto Part 1, so, again: if you got 110 on Part 1 and 67 on Part 2, you will have 177 / 2 = 90."
      ]
    },
    {
      "cell_type": "markdown",
      "metadata": {
        "id": "sFriyra6tgDl"
      },
      "source": [
        "### PART 1"
      ]
    },
    {
      "cell_type": "markdown",
      "metadata": {
        "id": "RJb33ORgtgDm"
      },
      "source": [
        " 1. Print “Hello World”  (2 pts)"
      ]
    },
    {
      "cell_type": "code",
      "execution_count": null,
      "metadata": {
        "colab": {
          "base_uri": "https://localhost:8080/"
        },
        "id": "5sx8Gca1tgDn",
        "outputId": "8201754a-2298-4b90-b60e-7450137416d4"
      },
      "outputs": [
        {
          "output_type": "stream",
          "name": "stdout",
          "text": [
            "Hello World\n"
          ]
        }
      ],
      "source": [
        "print(\"Hello World\")"
      ]
    },
    {
      "cell_type": "markdown",
      "metadata": {
        "id": "WWgr4rCHtgDo"
      },
      "source": [
        "2.  Save your age to a variable called “age”    \n",
        "3.  Print “Hello World, I’m (age variable) today.”    (5 pts)"
      ]
    },
    {
      "cell_type": "code",
      "execution_count": null,
      "metadata": {
        "colab": {
          "base_uri": "https://localhost:8080/"
        },
        "id": "a18Pts5gtgDp",
        "outputId": "d78102e8-972b-42d0-9b6c-a08a83b34bf8"
      },
      "outputs": [
        {
          "output_type": "stream",
          "name": "stdout",
          "text": [
            "Hello World, I'm 25 today.\n"
          ]
        }
      ],
      "source": [
        "age = 25\n",
        "print(\"Hello World, I'm\", age, \"today.\")"
      ]
    },
    {
      "cell_type": "markdown",
      "metadata": {
        "id": "Xpj-NpbFtgDq"
      },
      "source": [
        "4. Print “hello world” in all upper case using a Python string method to alter it (4 pts)"
      ]
    },
    {
      "cell_type": "code",
      "execution_count": null,
      "metadata": {
        "colab": {
          "base_uri": "https://localhost:8080/"
        },
        "id": "aQ7rZzeFtgDq",
        "outputId": "29add0d4-bb31-40f9-c292-6f21265d1522"
      },
      "outputs": [
        {
          "output_type": "stream",
          "name": "stdout",
          "text": [
            "HELLO WORLD\n"
          ]
        }
      ],
      "source": [
        "txt = \"hello world\"\n",
        "print(txt.upper())"
      ]
    },
    {
      "cell_type": "markdown",
      "metadata": {
        "id": "l83L4U0xtgDr"
      },
      "source": [
        " 5. Save any decimal in a variable called a.   \n",
        " Cast a into an int and save it as b.  \n",
        " Cast a into a string and save it as c.   \n",
        " Print each variable and its type.   (11 pts)"
      ]
    },
    {
      "cell_type": "code",
      "execution_count": null,
      "metadata": {
        "colab": {
          "base_uri": "https://localhost:8080/"
        },
        "id": "mJo867x8tgDs",
        "outputId": "b5c8d8d4-dc12-40e7-e4dc-bed1cb20bbe9"
      },
      "outputs": [
        {
          "output_type": "stream",
          "name": "stdout",
          "text": [
            "Decimal: 2.5\n",
            "Integer: 2\n",
            "String: 2.5\n"
          ]
        }
      ],
      "source": [
        "a = 2.5\n",
        "b = int(a)\n",
        "c = str(a)\n",
        "\n",
        "print(\"Decimal:\", a)\n",
        "print(\"Integer:\", b)\n",
        "print(\"String:\", c)"
      ]
    },
    {
      "cell_type": "markdown",
      "metadata": {
        "id": "CwTUX8AotgDt"
      },
      "source": [
        "6. Create a tuple of your favorite things to eat and print it.   (4 pts)"
      ]
    },
    {
      "cell_type": "code",
      "execution_count": null,
      "metadata": {
        "colab": {
          "base_uri": "https://localhost:8080/"
        },
        "id": "bVPHJXCLtgDt",
        "outputId": "0d550e4b-edd1-4769-946d-b4f5e7f735b2"
      },
      "outputs": [
        {
          "output_type": "stream",
          "name": "stdout",
          "text": [
            "('Burritos', 'Video Games', 'The Beach')\n"
          ]
        }
      ],
      "source": [
        "my_tuple = (1, \"Burritos\", \"Video Games\", \"The Beach\")\n",
        "print(my_tuple[1:])"
      ]
    },
    {
      "cell_type": "markdown",
      "metadata": {
        "id": "V-WaCibstgDt"
      },
      "source": [
        "7. Create a dictionary named ‘classes’ with the name of the classes you are taking as the keys and the professors names as the values.\n",
        "Print the dictionary and tuple.   (10 pts)"
      ]
    },
    {
      "cell_type": "markdown",
      "metadata": {
        "id": "sIQpwzCztgDu"
      },
      "source": [
        "8. Create a list called “whole” and put every number in it from 1 - 100  (10 pts)"
      ]
    },
    {
      "cell_type": "markdown",
      "metadata": {
        "id": "JdpGuavftgDu"
      },
      "source": [
        "9. Create 4 empty lists called ‘div2’, ‘div3’, ‘div4’, and ‘div5’       \n",
        "Create a loop that examines each number from 1 to 100 and:    \n",
        " If it is divisible by 2, put it in div2   (6 pts)    \n",
        " If it is divisible by 3, put it in div3   (6 pts)     \n",
        " If it is divisible by 4, put it in div4   (6 pts)    \n",
        " If it is divisible by 5, put it in div5   (6 pts)    \n",
        " Print all 5 of these lists"
      ]
    },
    {
      "cell_type": "code",
      "execution_count": null,
      "metadata": {
        "id": "Nm-X8NgytgDv",
        "colab": {
          "base_uri": "https://localhost:8080/"
        },
        "outputId": "06314f07-1e02-458d-e96f-df998f6c8025"
      },
      "outputs": [
        {
          "output_type": "stream",
          "name": "stdout",
          "text": [
            "Classes and Professors:\n",
            "{'Communications Networks': 'Professor Ilyas', 'Princip of Programming Languages': 'Professor Lloyd', 'full-stack web dev': 'Professor Jaramillo'}\n",
            "\n",
            "Tuple of Classes and Professors:\n",
            "(('Communications Networks', 'Professor Ilyas'), ('Princip of Programming Languages', 'Professor Lloyd'), ('full-stack web dev', 'Professor Jaramillo'))\n",
            "[1, 2, 3, 4, 5, 6, 7, 8, 9, 10, 11, 12, 13, 14, 15, 16, 17, 18, 19, 20, 21, 22, 23, 24, 25, 26, 27, 28, 29, 30, 31, 32, 33, 34, 35, 36, 37, 38, 39, 40, 41, 42, 43, 44, 45, 46, 47, 48, 49, 50, 51, 52, 53, 54, 55, 56, 57, 58, 59, 60, 61, 62, 63, 64, 65, 66, 67, 68, 69, 70, 71, 72, 73, 74, 75, 76, 77, 78, 79, 80, 81, 82, 83, 84, 85, 86, 87, 88, 89, 90, 91, 92, 93, 94, 95, 96, 97, 98, 99, 100]\n",
            "Numbers divisible by 2: [2, 4, 6, 8, 10, 12, 14, 16, 18, 20, 22, 24, 26, 28, 30, 32, 34, 36, 38, 40, 42, 44, 46, 48, 50, 52, 54, 56, 58, 60, 62, 64, 66, 68, 70, 72, 74, 76, 78, 80, 82, 84, 86, 88, 90, 92, 94, 96, 98, 100]\n",
            "Numbers divisible by 3: [3, 6, 9, 12, 15, 18, 21, 24, 27, 30, 33, 36, 39, 42, 45, 48, 51, 54, 57, 60, 63, 66, 69, 72, 75, 78, 81, 84, 87, 90, 93, 96, 99]\n",
            "Numbers divisible by 4: [4, 8, 12, 16, 20, 24, 28, 32, 36, 40, 44, 48, 52, 56, 60, 64, 68, 72, 76, 80, 84, 88, 92, 96, 100]\n",
            "Numbers divisible by 5: [5, 10, 15, 20, 25, 30, 35, 40, 45, 50, 55, 60, 65, 70, 75, 80, 85, 90, 95, 100]\n"
          ]
        }
      ],
      "source": [
        "#7\n",
        "classes = {\n",
        "    \"Communications Networks\": \"Professor Ilyas\",\n",
        "    \"Princip of Programming Languages\": \"Professor Lloyd\",\n",
        "    \"full-stack web dev\": \"Professor Jaramillo\"\n",
        "}\n",
        "\n",
        "\n",
        "print(\"Classes and Professors:\")\n",
        "print(classes)\n",
        "\n",
        "\n",
        "print(\"\\nTuple of Classes and Professors:\")\n",
        "print(tuple(classes.items()))\n",
        "\n",
        "#8\n",
        "whole = [num for num in range(1, 101)]\n",
        "\n",
        "print(whole)\n",
        "\n",
        "#9\n",
        "div2 = []\n",
        "div3 = []\n",
        "div4 = []\n",
        "div5 = []\n",
        "\n",
        "for num in range(1, 101):\n",
        "    if num % 2 == 0:\n",
        "        div2.append(num)\n",
        "    if num % 3 == 0:\n",
        "        div3.append(num)\n",
        "    if num % 4 == 0:\n",
        "        div4.append(num)\n",
        "    if num % 5 == 0:\n",
        "        div5.append(num)\n",
        "\n",
        "print(\"Numbers divisible by 2:\", div2)\n",
        "print(\"Numbers divisible by 3:\", div3)\n",
        "print(\"Numbers divisible by 4:\", div4)\n",
        "print(\"Numbers divisible by 5:\", div5)\n",
        "\n"
      ]
    },
    {
      "cell_type": "markdown",
      "metadata": {
        "id": "2eBNsJeXtgDv"
      },
      "source": [
        "10. Create a new list called “divOver5”   (3 pts)"
      ]
    },
    {
      "cell_type": "code",
      "execution_count": null,
      "metadata": {
        "id": "R4UQ2xrHtgDw"
      },
      "outputs": [],
      "source": [
        "divOver5 = []"
      ]
    },
    {
      "cell_type": "markdown",
      "metadata": {
        "id": "e5b-aio1tgDw"
      },
      "source": [
        "11. Create a new loop that goes through each number 1 through 100 and appends it to divOver5 if it is NOT IN div2 or div3 or div4 or div5      \n",
        " You must use logical operators here.   \n",
        "Print divOver5   (10 points)    "
      ]
    },
    {
      "cell_type": "code",
      "execution_count": null,
      "metadata": {
        "id": "eEpFh_wMtgDw",
        "colab": {
          "base_uri": "https://localhost:8080/"
        },
        "outputId": "576d35e6-8e99-42db-a346-76a9db0df19b"
      },
      "outputs": [
        {
          "output_type": "stream",
          "name": "stdout",
          "text": [
            "Numbers not divisible by 2, 3, 4, or 5: [1, 2, 3, 4, 5, 6, 7, 8, 9, 10, 11, 12, 13, 14, 15, 16, 17, 18, 19, 20, 21, 22, 23, 24, 25, 26, 27, 28, 29, 30, 31, 32, 33, 34, 35, 36, 37, 38, 39, 40, 41, 42, 43, 44, 45, 46, 47, 48, 49, 50, 51, 52, 53, 54, 55, 56, 57, 58, 59, 60, 61, 62, 63, 64, 65, 66, 67, 68, 69, 70, 71, 72, 73, 74, 75, 76, 77, 78, 79, 80, 81, 82, 83, 84, 85, 86, 87, 88, 89, 90, 91, 92, 93, 94, 95, 96, 97, 98, 99, 100]\n"
          ]
        }
      ],
      "source": [
        "div2 = []\n",
        "div3 = []\n",
        "div4 = []\n",
        "div5 = []\n",
        "divOver5 = []\n",
        "\n",
        "\n",
        "for num in range(1, 101):\n",
        "    if num not in div2 and num not in div3 and num not in div4 and num not in div5:\n",
        "        divOver5.append(num)\n",
        "\n",
        "print(\"Numbers not divisible by 2, 3, 4, or 5:\", divOver5)\n"
      ]
    },
    {
      "cell_type": "markdown",
      "metadata": {
        "id": "vW_RJ3OdtgDw"
      },
      "source": [
        "12. Create a function called exp3 that takes an int x, raises it to the third power.     \n",
        "Create a string in the function that says “x^3 = “ and concatenate x onto the end of the string.      \n",
        "Now return the string from the function.  Call the function exp3 and print what it returns.   (15 pts)"
      ]
    },
    {
      "cell_type": "code",
      "execution_count": null,
      "metadata": {
        "id": "Lusua9pAtgDx",
        "colab": {
          "base_uri": "https://localhost:8080/"
        },
        "outputId": "aefd3f12-7663-49c4-e165-7f55d3572635"
      },
      "outputs": [
        {
          "output_type": "stream",
          "name": "stdout",
          "text": [
            "5^3 = 125\n"
          ]
        }
      ],
      "source": [
        "def exp3(x):\n",
        "    result = x ** 3\n",
        "    expression = f\"{x}^3 = {result}\"\n",
        "    return expression\n",
        "\n",
        "print(exp3(5))\n"
      ]
    },
    {
      "cell_type": "markdown",
      "metadata": {
        "id": "tPMQINF-tgDx"
      },
      "source": [
        "13. Iterate through the classes dictionary and print the keys    (5 pts)"
      ]
    },
    {
      "cell_type": "code",
      "execution_count": null,
      "metadata": {
        "id": "6mbgId_4tgDx",
        "colab": {
          "base_uri": "https://localhost:8080/"
        },
        "outputId": "f022c2d8-23b2-4f27-b8b7-81bdbe8f4536"
      },
      "outputs": [
        {
          "output_type": "stream",
          "name": "stdout",
          "text": [
            "Class Names:\n",
            "Communications Networks\n",
            "Princip of Programming Languages\n",
            "full-stack web dev\n"
          ]
        }
      ],
      "source": [
        "classes = {\n",
        "    \"Communications Networks\": \"Professor Ilyas\",\n",
        "    \"Princip of Programming Languages\": \"Professor Lloyd\",\n",
        "    \"full-stack web dev\": \"Professor Jaramillo\"\n",
        "}\n",
        "\n",
        "\n",
        "print(\"Class Names:\")\n",
        "for class_name in classes.keys():\n",
        "    print(class_name)"
      ]
    },
    {
      "cell_type": "markdown",
      "metadata": {
        "id": "8bNqI9l6tgDy"
      },
      "source": [
        "14. Iterate through the classes dictionary and print the values   (5 pts)"
      ]
    },
    {
      "cell_type": "code",
      "execution_count": null,
      "metadata": {
        "id": "kw7aMTmStgDy",
        "colab": {
          "base_uri": "https://localhost:8080/"
        },
        "outputId": "5f03ecd1-70b5-4f5b-b8ee-29009abd790e"
      },
      "outputs": [
        {
          "output_type": "stream",
          "name": "stdout",
          "text": [
            "Professor Names:\n",
            "Professor Ilyas\n",
            "Professor Lloyd\n",
            "Professor Jaramillo\n"
          ]
        }
      ],
      "source": [
        "classes = {\n",
        "     \"Communications Networks\": \"Professor Ilyas\",\n",
        "    \"Princip of Programming Languages\": \"Professor Lloyd\",\n",
        "    \"full-stack web dev\": \"Professor Jaramillo\"\n",
        "}\n",
        "\n",
        "\n",
        "print(\"Professor Names:\")\n",
        "for professor_name in classes.values():\n",
        "    print(professor_name)\n"
      ]
    },
    {
      "cell_type": "markdown",
      "metadata": {
        "id": "M-2X1vdNtgDy"
      },
      "source": [
        "(Worth +10 points) Extra Points:   \n",
        "Create a class called Student that has the properties:    \n",
        "\tname (holds student name)    \n",
        "\tage (holds student age)    \n",
        "\tbirthmonth (hold students birthmonth)\n",
        "\n",
        "\tA count variable exists that is set to 0 (see lecture) and upon each call to the class this variable increments     \n",
        "\n",
        "\t2 functions in the class:  displayName which returns the name of the student and displayBirthmonth which returns the birth month of the student    \n",
        "\n",
        "\tNow create 3 students, use whatever data you want.       \n",
        "\tCall displayName() on student1     \n",
        "\tCall displayBirthmonth() on student2    \n",
        "\tprint the student count    \n"
      ]
    },
    {
      "cell_type": "code",
      "execution_count": null,
      "metadata": {
        "id": "Tl63qr-OtgDy",
        "colab": {
          "base_uri": "https://localhost:8080/"
        },
        "outputId": "8192065c-95f7-4324-c1fc-961f7687b11f"
      },
      "outputs": [
        {
          "output_type": "stream",
          "name": "stdout",
          "text": [
            "Name of student1: Talon\n",
            "Birth month of student2: March\n",
            "Student count: 3\n"
          ]
        }
      ],
      "source": [
        "class Student:\n",
        "    count = 0\n",
        "\n",
        "    def __init__(self, name, birth_month):\n",
        "        self.name = name\n",
        "        self.birth_month = birth_month\n",
        "        Student.count += 1\n",
        "\n",
        "    def displayName(self):\n",
        "        return self.name\n",
        "\n",
        "    def displayBirthmonth(self):\n",
        "        return self.birth_month\n",
        "\n",
        "\n",
        "student1 = Student(\"Talon\", \"October\")\n",
        "student2 = Student(\"Adam\", \"March\")\n",
        "student3 = Student(\"Stephen\", \"December\")\n",
        "\n",
        "\n",
        "print(\"Name of student1:\", student1.displayName())\n",
        "print(\"Birth month of student2:\", student2.displayBirthmonth())\n",
        "print(\"Student count:\", Student.count)\n"
      ]
    },
    {
      "cell_type": "markdown",
      "metadata": {
        "id": "SzjD3LuftgDy"
      },
      "source": [
        "### PART 2"
      ]
    },
    {
      "cell_type": "markdown",
      "metadata": {
        "id": "DARMA-1EtgDz"
      },
      "source": [
        "This part will require you to use the film_results.txt file provided on Canvas. You will also need to import NumPy and Pandas."
      ]
    },
    {
      "cell_type": "markdown",
      "metadata": {
        "id": "XVxoqtWttgDz"
      },
      "source": [
        "1. Move the film_results.txt file from Blackboard into your project directory.     \n",
        " Create 3 lists, one for states, one for shows, and one for viewers.     \n",
        " Ingest data from text file and put it into a NumPy array (show_results.txt)      \n",
        "\tItll look like a nested list.       \n",
        "          [ [‘Oregon’, ‘Once Upon a Time’, ‘4075’] [...] …]     \n",
        " Print the raw data   (10 pts)    "
      ]
    },
    {
      "cell_type": "code",
      "execution_count": null,
      "metadata": {
        "id": "FgkM_mJktgDz"
      },
      "outputs": [],
      "source": [
        "import numpy as np\n",
        "\n",
        "\n",
        "with open(\"film_results.txt\", \"r\") as file:\n",
        "    data = file.readlines()\n",
        "\n",
        "\n",
        "states = []\n",
        "shows = []\n",
        "viewers = []\n",
        "\n",
        "\n",
        "for line in data:\n",
        "    line = line.strip().split(\",\")\n",
        "    states.append(line[0])\n",
        "    shows.append(line[1])\n",
        "    viewers.append(int(line[2]))\n",
        "\n",
        "\n",
        "states_array = np.array(states)\n",
        "shows_array = np.array(shows)\n",
        "viewers_array = np.array(viewers)\n",
        "\n",
        "print(\"States Array:\")\n",
        "print(states_array)\n",
        "print(\"\\nShows Array:\")\n",
        "print(shows_array)\n",
        "print(\"\\nViewers Array:\")\n",
        "print(viewers_array)\n"
      ]
    },
    {
      "cell_type": "markdown",
      "metadata": {
        "id": "EDaD87DgtgDz"
      },
      "source": [
        "2.  Take the data from the NumPy array and sort it by state, show and viewers, putting each into the appropriate lists you defined earlier.  (so now you have 3 lists, one with states, one with shows and one with viewer counts.)  No duplicates in the states and shows.  Duplicates can and should exist in the viewers.      \n",
        "So the states list will look like this: ['Washington', 'Nevada', 'Idaho', 'California', 'Oregon']      \n",
        " Print these unsorted lists    (5 pts)"
      ]
    },
    {
      "cell_type": "code",
      "execution_count": null,
      "metadata": {
        "id": "ppPt9-7ItgD0",
        "colab": {
          "base_uri": "https://localhost:8080/",
          "height": 211
        },
        "outputId": "ac4c4d0c-0a62-468e-fd7e-02df2e140268"
      },
      "outputs": [
        {
          "output_type": "error",
          "ename": "FileNotFoundError",
          "evalue": "[Errno 2] No such file or directory: 'film_results.txt'",
          "traceback": [
            "\u001b[0;31m---------------------------------------------------------------------------\u001b[0m",
            "\u001b[0;31mFileNotFoundError\u001b[0m                         Traceback (most recent call last)",
            "\u001b[0;32m<ipython-input-1-88ffe92d93a3>\u001b[0m in \u001b[0;36m<cell line: 4>\u001b[0;34m()\u001b[0m\n\u001b[1;32m      2\u001b[0m \u001b[0;34m\u001b[0m\u001b[0m\n\u001b[1;32m      3\u001b[0m \u001b[0;34m\u001b[0m\u001b[0m\n\u001b[0;32m----> 4\u001b[0;31m \u001b[0;32mwith\u001b[0m \u001b[0mopen\u001b[0m\u001b[0;34m(\u001b[0m\u001b[0;34m\"film_results.txt\"\u001b[0m\u001b[0;34m,\u001b[0m \u001b[0;34m\"r\"\u001b[0m\u001b[0;34m)\u001b[0m \u001b[0;32mas\u001b[0m \u001b[0mfile\u001b[0m\u001b[0;34m:\u001b[0m\u001b[0;34m\u001b[0m\u001b[0;34m\u001b[0m\u001b[0m\n\u001b[0m\u001b[1;32m      5\u001b[0m     \u001b[0mdata\u001b[0m \u001b[0;34m=\u001b[0m \u001b[0mfile\u001b[0m\u001b[0;34m.\u001b[0m\u001b[0mreadlines\u001b[0m\u001b[0;34m(\u001b[0m\u001b[0;34m)\u001b[0m\u001b[0;34m\u001b[0m\u001b[0;34m\u001b[0m\u001b[0m\n\u001b[1;32m      6\u001b[0m \u001b[0;34m\u001b[0m\u001b[0m\n",
            "\u001b[0;31mFileNotFoundError\u001b[0m: [Errno 2] No such file or directory: 'film_results.txt'"
          ]
        }
      ],
      "source": [
        "import numpy as np\n",
        "\n",
        "\n",
        "with open(\"film_results.txt\", \"r\") as file:\n",
        "    data = file.readlines()\n",
        "\n",
        "\n",
        "states = []\n",
        "shows = []\n",
        "viewers = []\n",
        "\n",
        "\n",
        "for line in data:\n",
        "    line = line.strip().split(\",\")\n",
        "    states.append(line[0])\n",
        "    shows.append(line[1])\n",
        "    viewers.append(int(line[2]))\n",
        "\n",
        "\n",
        "states_array = np.array(states)\n",
        "shows_array = np.array(shows)\n",
        "viewers_array = np.array(viewers)\n",
        "\n",
        "\n",
        "print(\"States Array:\")\n",
        "print(states_array)\n",
        "print(\"\\nShows Array:\")\n",
        "print(shows_array)\n",
        "print(\"\\nViewers Array:\")\n",
        "print(viewers_array)\n"
      ]
    },
    {
      "cell_type": "markdown",
      "metadata": {
        "id": "4OzqFkVHtgD0"
      },
      "source": [
        "3. Convert all 3 lists into NumPy arrays     \n",
        " print new NumPy Arrays    (10 pts)"
      ]
    },
    {
      "cell_type": "code",
      "execution_count": null,
      "metadata": {
        "id": "nkbdVp7ctgD0"
      },
      "outputs": [],
      "source": [
        "import numpy as np\n",
        "\n",
        "\n",
        "with open(\"film_results.txt\", \"r\") as file:\n",
        "    data = file.readlines()\n",
        "\n",
        "\n",
        "states = []\n",
        "shows = []\n",
        "viewers = []\n",
        "\n",
        "\n",
        "for line in data:\n",
        "    line = line.strip().split(\",\")\n",
        "    states.append(line[0])\n",
        "    shows.append(line[1])\n",
        "    viewers.append(int(line[2]))\n",
        "\n",
        "\n",
        "states_array = np.array(states)\n",
        "shows_array = np.array(shows)\n",
        "viewers_array = np.array(viewers)\n",
        "\n",
        "\n",
        "states_unique = list(set(states_array))\n",
        "shows_unique = list(set(shows_array))\n",
        "\n",
        "\n",
        "states_unique.sort()\n",
        "shows_unique.sort()\n",
        "\n",
        "\n",
        "sorted_states = []\n",
        "sorted_shows = []\n",
        "sorted_viewers = []\n",
        "\n",
        "\n",
        "for state in states_unique:\n",
        "    for show in shows_unique:\n",
        "        for idx, s in enumerate(states):\n",
        "            if s == state and shows[idx] == show:\n",
        "                sorted_states.append(state)\n",
        "                sorted_shows.append(show)\n",
        "                sorted_viewers.append(viewers[idx])\n",
        "\n",
        "\n",
        "sorted_states_array = np.array(sorted_states)\n",
        "sorted_shows_array = np.array(sorted_shows)\n",
        "sorted_viewers_array = np.array(sorted_viewers)\n",
        "\n",
        "\n",
        "print(\"Sorted NumPy Arrays:\")\n",
        "print(\"States:\", sorted_states_array)\n",
        "print(\"Shows:\", sorted_shows_array)\n",
        "print(\"Viewers:\", sorted_viewers_array)\n"
      ]
    },
    {
      "cell_type": "markdown",
      "metadata": {
        "id": "tqW98bl-tgD0"
      },
      "source": [
        "4. Sort the States and Shows arrays      \n",
        "\tNow your States array will look like:      \n",
        "\t['California', 'Idaho', 'Nevada', 'Oregon', 'Washington']      \n",
        "Convert the Viewers array from STRINGS into INTS      \n",
        "Sum up viewers list into one variable (you can do this in one line)       \n",
        "Print: Sorted arrays (states and shows), viewers list (as ints), and the variable that is the sum of the viewers list.        (30 pts)"
      ]
    },
    {
      "cell_type": "code",
      "execution_count": null,
      "metadata": {
        "id": "xuhzTa7ktgD1"
      },
      "outputs": [],
      "source": [
        "import numpy as np\n",
        "\n",
        "\n",
        "with open(\"film_results.txt\", \"r\") as file:\n",
        "    data = file.readlines()\n",
        "\n",
        "\n",
        "states = []\n",
        "shows = []\n",
        "viewers = []\n",
        "\n",
        "\n",
        "for line in data:\n",
        "    line = line.strip().split(\",\")\n",
        "    states.append(line[0])\n",
        "    shows.append(line[1])\n",
        "    viewers.append(int(line[2]))\n",
        "\n",
        "\n",
        "states_array = np.array(states)\n",
        "shows_array = np.array(shows)\n",
        "viewers_array = np.array(viewers)\n",
        "\n",
        "\n",
        "states_unique = np.unique(states_array)\n",
        "shows_unique = np.unique(shows_array)\n",
        "\n",
        "\n",
        "sorted_states = np.sort(states_unique)\n",
        "sorted_shows = np.sort(shows_unique)\n",
        "\n",
        "\n",
        "print(\"Sorted Arrays:\")\n",
        "print(\"States:\", sorted_states)\n",
        "print(\"Shows:\", sorted_shows)\n",
        "\n",
        "viewers_array_int = viewers_array.astype(int)\n",
        "\n",
        "\n",
        "total_viewers = np.sum(viewers_array_int)\n",
        "\n",
        "\n",
        "print(\"Viewers List (as integers):\", viewers_array_int)\n",
        "print(\"Total Viewers:\", total_viewers)\n"
      ]
    },
    {
      "cell_type": "markdown",
      "metadata": {
        "id": "77ldUGmNtgD1"
      },
      "source": [
        "5. Create 2 DataFrames:      \n",
        "show_raw_stats: index = numpy sorted array of SHOWS; columns = numpy sorted array of STATES      \n",
        "show_agg_stats: index = same as above; columns= a list with the words Max, Min, Totals and Percent in it (like this… [‘Max’,’Min’,’Totals’, ‘Percent’]        \n",
        "Populate show_raw_stats with data from the Original Array ingested from film_results.txt.\n",
        "Populate the Max, Min, Totals, and Percent in show_agg_stats using the DataFrame native functionality    \n",
        "Print both dataframe   (30 pts)     \n",
        "\n",
        "HINT:  You will need to create a loop here that basically goes the length of the original array, and on each iteration, it grabs the STATE, SHOW, and VIEWERS number (itll be a string so youll have to convert it…).    \n",
        "The final step of each iteration will be placing it in the dataframe in the correct spot as an accumulation. +=      (Otherwise you just writing over the value there)     \n"
      ]
    },
    {
      "cell_type": "code",
      "execution_count": null,
      "metadata": {
        "id": "SKRsL563tgD1",
        "colab": {
          "base_uri": "https://localhost:8080/",
          "height": 211
        },
        "outputId": "ece4f422-eb56-406e-bf8f-68c8dde60036"
      },
      "outputs": [
        {
          "output_type": "error",
          "ename": "FileNotFoundError",
          "evalue": "[Errno 2] No such file or directory: 'film_results.txt'",
          "traceback": [
            "\u001b[0;31m---------------------------------------------------------------------------\u001b[0m",
            "\u001b[0;31mFileNotFoundError\u001b[0m                         Traceback (most recent call last)",
            "\u001b[0;32m<ipython-input-2-7f356d0bd901>\u001b[0m in \u001b[0;36m<cell line: 7>\u001b[0;34m()\u001b[0m\n\u001b[1;32m      5\u001b[0m \u001b[0;34m\u001b[0m\u001b[0m\n\u001b[1;32m      6\u001b[0m \u001b[0;34m\u001b[0m\u001b[0m\n\u001b[0;32m----> 7\u001b[0;31m \u001b[0;32mwith\u001b[0m \u001b[0mopen\u001b[0m\u001b[0;34m(\u001b[0m\u001b[0;34m\"film_results.txt\"\u001b[0m\u001b[0;34m,\u001b[0m \u001b[0;34m\"r\"\u001b[0m\u001b[0;34m)\u001b[0m \u001b[0;32mas\u001b[0m \u001b[0mfile\u001b[0m\u001b[0;34m:\u001b[0m\u001b[0;34m\u001b[0m\u001b[0;34m\u001b[0m\u001b[0m\n\u001b[0m\u001b[1;32m      8\u001b[0m     \u001b[0mdata\u001b[0m \u001b[0;34m=\u001b[0m \u001b[0mfile\u001b[0m\u001b[0;34m.\u001b[0m\u001b[0mreadlines\u001b[0m\u001b[0;34m(\u001b[0m\u001b[0;34m)\u001b[0m\u001b[0;34m\u001b[0m\u001b[0;34m\u001b[0m\u001b[0m\n\u001b[1;32m      9\u001b[0m \u001b[0;34m\u001b[0m\u001b[0m\n",
            "\u001b[0;31mFileNotFoundError\u001b[0m: [Errno 2] No such file or directory: 'film_results.txt'"
          ]
        }
      ],
      "source": [
        "#5\n",
        "\n",
        "import pandas as pd\n",
        "import numpy as np\n",
        "\n",
        "\n",
        "with open(\"film_results.txt\", \"r\") as file:\n",
        "    data = file.readlines()\n",
        "\n",
        "\n",
        "states = []\n",
        "shows = []\n",
        "viewers = []\n",
        "\n",
        "\n",
        "for line in data:\n",
        "    line = line.strip().split(\",\")\n",
        "    states.append(line[0])\n",
        "    shows.append(line[1])\n",
        "    viewers.append(int(line[2]))\n",
        "\n",
        "\n",
        "states_array = np.array(states)\n",
        "shows_array = np.array(shows)\n",
        "viewers_array = np.array(viewers)\n",
        "\n",
        "\n",
        "sorted_states = np.sort(np.unique(states_array))\n",
        "sorted_shows = np.sort(np.unique(shows_array))\n",
        "\n",
        "\n",
        "show_raw_stats = pd.DataFrame(index=sorted_shows, columns=sorted_states)\n",
        "\n",
        "\n",
        "for state, show, viewer_count in zip(states, shows, viewers):\n",
        "    show_raw_stats.loc[show, state] = viewer_count\n",
        "\n",
        "\n",
        "show_agg_stats = pd.DataFrame(index=sorted_shows, columns=['Max', 'Min', 'Total', 'Percent'])\n",
        "\n",
        "\n",
        "for show in sorted_shows:\n",
        "    viewers_show = show_raw_stats.loc[show].dropna()\n",
        "    show_agg_stats.loc[show, 'Max'] = viewers_show.max()\n",
        "    show_agg_stats.loc[show, 'Min'] = viewers_show.min()\n",
        "    show_agg_stats.loc[show, 'Total'] = viewers_show.sum()\n",
        "    show_agg_stats.loc[show, 'Percent'] = (viewers_show.sum() / viewers_array.sum()) * 100\n",
        "\n",
        "\n",
        "print(\"show_raw_stats DataFrame:\")\n",
        "print(show_raw_stats)\n",
        "print(\"\\nshow_agg_stats DataFrame:\")\n",
        "print(show_agg_stats)\n",
        "\n",
        "#6\n",
        "#Highest percentage: Game of Thrones\n",
        "#Lowest percentage: Once Upon a Time\n",
        "#Favorite: Game of Thrones, that is an amazing show!"
      ]
    },
    {
      "cell_type": "markdown",
      "metadata": {
        "id": "nIzBfsmytgD1"
      },
      "source": [
        "6. Print the answer to these questions in a Markdown cell, do not print them with Python:        \n",
        "Which Show has the highest percentage?   (5 pts)      \n",
        "Which Show has the lowest percentage?    (5 pts)     \n",
        "Which show is your favorite?             (5 pts)     "
      ]
    },
    {
      "cell_type": "markdown",
      "metadata": {
        "id": "yrZxXNgrtgD2"
      },
      "source": []
    },
    {
      "cell_type": "markdown",
      "metadata": {
        "id": "RuNqB8q0tgD2"
      },
      "source": [
        "### Please try to follow the directions as closely as possible.  You might think of better ways to implement this, with less lines of code the skips steps and thats great, but not for this assignment.  If you do think of these, put them in comments and extra points will be given for those but follow these steps."
      ]
    },
    {
      "cell_type": "markdown",
      "metadata": {
        "id": "j-Tc-nXztgD2"
      },
      "source": []
    }
  ],
  "metadata": {
    "kernelspec": {
      "display_name": "base",
      "language": "python",
      "name": "python3"
    },
    "language_info": {
      "name": "python",
      "version": "3.9.7"
    },
    "colab": {
      "provenance": [],
      "include_colab_link": true
    }
  },
  "nbformat": 4,
  "nbformat_minor": 0
}